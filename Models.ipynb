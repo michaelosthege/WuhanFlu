{
 "cells": [
  {
   "cell_type": "code",
   "execution_count": 1,
   "metadata": {},
   "outputs": [],
   "source": [
    "%load_ext autoreload\n",
    "%autoreload 2\n",
    "%matplotlib inline\n",
    "\n",
    "import numpy as np\n",
    "import matplotlib.pyplot as plt\n",
    "import pymc3 as pm\n",
    "import arviz as az\n",
    "import pandas as pd\n",
    "\n",
    "import datasource"
   ]
  },
  {
   "cell_type": "markdown",
   "metadata": {},
   "source": [
    "# Data\n",
    "Data from https://en.wikipedia.org/wiki/Timeline_of_the_2019%E2%80%9320_Wuhan_coronavirus_outbreak"
   ]
  },
  {
   "cell_type": "code",
   "execution_count": 6,
   "metadata": {},
   "outputs": [],
   "source": [
    "# Mainland China data\n",
    "\n",
    "dates = pd.date_range('2020-01-10','2020-01-27')\n",
    "#Missing data from the 14\n",
    "dates = dates[dates!='2020-01-14']\n",
    "\n",
    "confirmed_cases = [41,\n",
    "                   41,\n",
    "                   41,\n",
    "                   41,\n",
    "                   np.NaN,\n",
    "                   45,\n",
    "                   62,\n",
    "                   121,\n",
    "                   198,\n",
    "                   291,\n",
    "                   440,\n",
    "                   571,\n",
    "                   830,\n",
    "                   1287,\n",
    "                   1975,\n",
    "                   2744,\n",
    "                   4515]\n",
    "\n",
    "deaths = [1,\n",
    "          1,\n",
    "          1,\n",
    "          1,\n",
    "          2,\n",
    "          np.NaN,\n",
    "          2,\n",
    "          np.NaN,\n",
    "          3,\n",
    "          6,\n",
    "          9,\n",
    "          17,\n",
    "          25,\n",
    "          41,\n",
    "          56,\n",
    "          80,\n",
    "          106]\n",
    "\n",
    "recovered = [np.NaN,\n",
    "             np.NaN, \n",
    "             np.NaN,\n",
    "             np.NaN,\n",
    "             7,\n",
    "             12,\n",
    "             15,\n",
    "             19,\n",
    "             25,\n",
    "             25,\n",
    "             np.NaN, \n",
    "             np.NaN,\n",
    "             34,\n",
    "             38,\n",
    "             49,\n",
    "             51,\n",
    "             60]"
   ]
  },
  {
   "cell_type": "code",
   "execution_count": 10,
   "metadata": {},
   "outputs": [],
   "source": [
    "df = pd.DataFrame({'dates':dates, 'I':confirmed_cases, 'Rd':deaths, 'Rr':recovered})\n",
    "df['R'] = df.Rd + df.Rr\n",
    "df = df.set_index('dates')"
   ]
  },
  {
   "cell_type": "code",
   "execution_count": 4,
   "metadata": {},
   "outputs": [
    {
     "data": {
      "text/html": [
       "<div>\n",
       "<style scoped>\n",
       "    .dataframe tbody tr th:only-of-type {\n",
       "        vertical-align: middle;\n",
       "    }\n",
       "\n",
       "    .dataframe tbody tr th {\n",
       "        vertical-align: top;\n",
       "    }\n",
       "\n",
       "    .dataframe thead th {\n",
       "        text-align: right;\n",
       "    }\n",
       "</style>\n",
       "<table border=\"1\" class=\"dataframe\">\n",
       "  <thead>\n",
       "    <tr style=\"text-align: right;\">\n",
       "      <th></th>\n",
       "      <th>I</th>\n",
       "      <th>Rd</th>\n",
       "      <th>Rr</th>\n",
       "      <th>R</th>\n",
       "    </tr>\n",
       "  </thead>\n",
       "  <tbody>\n",
       "    <tr>\n",
       "      <th>2020-01-10</th>\n",
       "      <td>41.0</td>\n",
       "      <td>1.0</td>\n",
       "      <td>NaN</td>\n",
       "      <td>NaN</td>\n",
       "    </tr>\n",
       "    <tr>\n",
       "      <th>2020-01-11</th>\n",
       "      <td>41.0</td>\n",
       "      <td>1.0</td>\n",
       "      <td>NaN</td>\n",
       "      <td>NaN</td>\n",
       "    </tr>\n",
       "    <tr>\n",
       "      <th>2020-01-12</th>\n",
       "      <td>41.0</td>\n",
       "      <td>1.0</td>\n",
       "      <td>NaN</td>\n",
       "      <td>NaN</td>\n",
       "    </tr>\n",
       "    <tr>\n",
       "      <th>2020-01-13</th>\n",
       "      <td>41.0</td>\n",
       "      <td>1.0</td>\n",
       "      <td>NaN</td>\n",
       "      <td>NaN</td>\n",
       "    </tr>\n",
       "    <tr>\n",
       "      <th>2020-01-15</th>\n",
       "      <td>NaN</td>\n",
       "      <td>2.0</td>\n",
       "      <td>7.0</td>\n",
       "      <td>9.0</td>\n",
       "    </tr>\n",
       "  </tbody>\n",
       "</table>\n",
       "</div>"
      ],
      "text/plain": [
       "               I   Rd   Rr    R\n",
       "2020-01-10  41.0  1.0  NaN  NaN\n",
       "2020-01-11  41.0  1.0  NaN  NaN\n",
       "2020-01-12  41.0  1.0  NaN  NaN\n",
       "2020-01-13  41.0  1.0  NaN  NaN\n",
       "2020-01-15   NaN  2.0  7.0  9.0"
      ]
     },
     "execution_count": 4,
     "metadata": {},
     "output_type": "execute_result"
    }
   ],
   "source": [
    "df = datasource.get_pooled()\n",
    "df.head()"
   ]
  },
  {
   "cell_type": "code",
   "execution_count": 5,
   "metadata": {},
   "outputs": [
    {
     "data": {
      "text/plain": [
       "<matplotlib.axes._subplots.AxesSubplot at 0x1f0223674e0>"
      ]
     },
     "execution_count": 5,
     "metadata": {},
     "output_type": "execute_result"
    },
    {
     "data": {
      "image/png": "[encoded data removed]",
      "text/plain": [
       "<Figure size 432x288 with 1 Axes>"
      ]
     },
     "metadata": {
      "needs_background": "light"
     },
     "output_type": "display_data"
    }
   ],
   "source": [
    "df.resample('D').sum().fillna(method='bfill').I.plot()\n",
    "df.resample('D').sum().fillna(method='bfill').R.plot()"
   ]
  },
  {
   "cell_type": "markdown",
   "metadata": {},
   "source": [
    "# Rationale\n",
    "\n",
    "These data are from mainland china, which has a large popuation size.  Because the disease is in early stages, and because $N$ is so large, we can approximate $S(t) \\approx N$.  The remaining differential equations are then\n",
    "\n",
    "$$ I'(t) = (\\beta N-\\gamma)I(t) $$\n",
    "\n",
    "$$ R'(t) = \\gamma I(t)$$ \n",
    "\n",
    "This leads to the early disease approximation via exponential functions\n",
    "\n",
    "$$I(t) = I_0\\exp((\\beta N - \\gamma)t) $$\n",
    "\n",
    "$$R(t) = \\gamma I_0 \\exp((\\beta N - \\gamma)t) $$\n",
    "\n",
    "The population of mainland china is something like $\\mathcal{O}(10^9)$ (from google 1,339,724,852) which means the estimates of the parameters are going to be very very small.\n",
    "\n",
    "It might be easier to model in log space\n",
    "\n",
    "$$\\log(I) = \\log(I_0) + (\\beta N - \\gamma)t$$\n",
    "\n",
    "$$\\log(R) = \\log(\\gamma) + \\log(I_0) + (\\beta N - \\gamma)t$$\n",
    "\n"
   ]
  },
  {
   "cell_type": "code",
   "execution_count": null,
   "metadata": {},
   "outputs": [],
   "source": []
  }
 ],
 "metadata": {
  "kernelspec": {
   "display_name": "Python 3",
   "language": "python",
   "name": "python3"
  },
  "language_info": {
   "codemirror_mode": {
    "name": "ipython",
    "version": 3
   },
   "file_extension": ".py",
   "mimetype": "text/x-python",
   "name": "python",
   "nbconvert_exporter": "python",
   "pygments_lexer": "ipython3",
   "version": "3.6.9"
  }
 },
 "nbformat": 4,
 "nbformat_minor": 4
}
